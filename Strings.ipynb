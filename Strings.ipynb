{
 "cells": [
  {
   "cell_type": "markdown",
   "metadata": {},
   "source": [
    "# Strings in Python\n",
    "Strings in python are surrounded by either single quotation marks, or double quotation marks.\n",
    "\n",
    "'hello' is the same as \"hello\".\n"
   ]
  },
  {
   "cell_type": "code",
   "execution_count": 8,
   "metadata": {},
   "outputs": [
    {
     "name": "stdout",
     "output_type": "stream",
     "text": [
      "Hello\n",
      "Hello\n"
     ]
    }
   ],
   "source": [
    "print('Hello')\n",
    "a = 'Hello'\n",
    "print(a)"
   ]
  },
  {
   "cell_type": "markdown",
   "metadata": {},
   "source": [
    "# Strings are array\n",
    "Like many other popular programming languages, strings in Python are arrays of bytes representing unicode characters.\n",
    "\n",
    "However, Python does not have a character data type, a single character is simply a string with a length of 1.\n",
    "\n",
    "Square brackets can be used to access elements of the string."
   ]
  },
  {
   "cell_type": "code",
   "execution_count": 3,
   "metadata": {},
   "outputs": [
    {
     "name": "stdout",
     "output_type": "stream",
     "text": [
      "Hello, World!\n",
      "e\n"
     ]
    }
   ],
   "source": [
    "#Get the character at position 1 (remember that the first character has the position 0):\n",
    "a = 'Hello, World!'\n",
    "print(a)\n",
    "print(a[1])"
   ]
  },
  {
   "cell_type": "markdown",
   "metadata": {},
   "source": [
    "# Looping Through a String\n",
    "Since strings are arrays, we can loop through the characters in a string, with a for loop# "
   ]
  },
  {
   "cell_type": "code",
   "execution_count": 4,
   "metadata": {},
   "outputs": [
    {
     "name": "stdout",
     "output_type": "stream",
     "text": [
      "B\n",
      "a\n",
      "n\n",
      "a\n",
      "n\n",
      "a\n"
     ]
    }
   ],
   "source": [
    "for i in 'Banana':\n",
    "    print(i)"
   ]
  },
  {
   "cell_type": "markdown",
   "metadata": {},
   "source": [
    "# String Length\n",
    "To get the length of a string, use the len() function. "
   ]
  },
  {
   "cell_type": "code",
   "execution_count": 11,
   "metadata": {},
   "outputs": [
    {
     "name": "stdout",
     "output_type": "stream",
     "text": [
      "5\n"
     ]
    }
   ],
   "source": [
    "a = ('Hello')\n",
    "print(len(a))"
   ]
  },
  {
   "cell_type": "markdown",
   "metadata": {},
   "source": [
    "# Check String\n",
    "To check if a certain phrase or character is present in a string, we can use the keyword \"in\"."
   ]
  },
  {
   "cell_type": "code",
   "execution_count": 14,
   "metadata": {},
   "outputs": [
    {
     "name": "stdout",
     "output_type": "stream",
     "text": [
      "False\n"
     ]
    }
   ],
   "source": [
    "txt = \"The life is so hard, you will have to do hardwork to make it easy\"\n",
    "print(\"free\" in txt)"
   ]
  },
  {
   "cell_type": "code",
   "execution_count": 15,
   "metadata": {},
   "outputs": [
    {
     "name": "stdout",
     "output_type": "stream",
     "text": [
      "True\n"
     ]
    }
   ],
   "source": [
    "print(\"hard\" in txt)"
   ]
  },
  {
   "cell_type": "code",
   "execution_count": 10,
   "metadata": {},
   "outputs": [
    {
     "name": "stdout",
     "output_type": "stream",
     "text": [
      "yes, it is present\n"
     ]
    }
   ],
   "source": [
    "#Use it in an if statement:\n",
    "a = \"The life is so hard, you will have to do hardwork to make it easy\"\n",
    "if \"hard\" in a:\n",
    "    print(\"yes, it is present\")"
   ]
  },
  {
   "cell_type": "code",
   "execution_count": 13,
   "metadata": {},
   "outputs": [
    {
     "name": "stdout",
     "output_type": "stream",
     "text": [
      "No, it is not present\n"
     ]
    }
   ],
   "source": [
    "#Check if not\n",
    "a = \"The life is so hard, you will have to do hardwork to make it easy\"\n",
    "if \"free\" not in a:\n",
    "    print(\"No, it is not present\")"
   ]
  },
  {
   "cell_type": "markdown",
   "metadata": {},
   "source": [
    "# Slicing\n",
    "You can return a range of characters by using the slice syntax.\n",
    "\n",
    "Specify the start index and the end index, separated by a colon, to return a part of the string. "
   ]
  },
  {
   "cell_type": "code",
   "execution_count": 16,
   "metadata": {},
   "outputs": [
    {
     "name": "stdout",
     "output_type": "stream",
     "text": [
      "llo\n"
     ]
    }
   ],
   "source": [
    "#Get the characters from position 2 to position 5 (not included):\n",
    "a = 'Hello, world!'\n",
    "print(a[2:5]) #Note: The first character has index 0."
   ]
  },
  {
   "cell_type": "code",
   "execution_count": 15,
   "metadata": {},
   "outputs": [
    {
     "name": "stdout",
     "output_type": "stream",
     "text": [
      "Hello\n"
     ]
    }
   ],
   "source": [
    "#By leaving out the start index, the range will start at the first character:\n",
    "#Get the characters from the start to position 5 (not included):\n",
    "print(a[:5])"
   ]
  },
  {
   "cell_type": "code",
   "execution_count": 18,
   "metadata": {},
   "outputs": [
    {
     "name": "stdout",
     "output_type": "stream",
     "text": [
      "llo, world!\n"
     ]
    }
   ],
   "source": [
    "#By leaving out the end index, the range will go to the end:\n",
    "#Get the characters from position 2, and all the way to the end:\n",
    "print(a[2:])"
   ]
  },
  {
   "cell_type": "code",
   "execution_count": 19,
   "metadata": {},
   "outputs": [
    {
     "name": "stdout",
     "output_type": "stream",
     "text": [
      "orl\n"
     ]
    }
   ],
   "source": [
    "#Use negative indexes to start the slice from the end of the string:\n",
    "print(a[-5:-2])"
   ]
  },
  {
   "cell_type": "markdown",
   "metadata": {},
   "source": [
    "# Modify Strings\n",
    "Python has a set of built-in methods that you can use on strings."
   ]
  },
  {
   "cell_type": "code",
   "execution_count": 21,
   "metadata": {},
   "outputs": [
    {
     "name": "stdout",
     "output_type": "stream",
     "text": [
      "HELLO, WORLD!\n",
      "hello, world!\n"
     ]
    }
   ],
   "source": [
    "a = \"hello, World!\"\n",
    "print(a.upper()) #To get the output in upper later\n",
    "print(a.lower()) #To get the output in lower later"
   ]
  },
  {
   "cell_type": "code",
   "execution_count": 23,
   "metadata": {},
   "outputs": [
    {
     "name": "stdout",
     "output_type": "stream",
     "text": [
      " Hello, world!\n",
      "Hello, world!\n"
     ]
    }
   ],
   "source": [
    "a = \" Hello, world!\"\n",
    "print(a)\n",
    "print(a.strip()) #The strip() method removes any whitespace from the beginning or the end."
   ]
  },
  {
   "cell_type": "code",
   "execution_count": 24,
   "metadata": {},
   "outputs": [
    {
     "name": "stdout",
     "output_type": "stream",
     "text": [
      "Pello, world!\n"
     ]
    }
   ],
   "source": [
    "a = \"Hello, world!\"\n",
    "print(a.replace('H','P'))  #The replace() method replaces a string with another string."
   ]
  },
  {
   "cell_type": "code",
   "execution_count": 25,
   "metadata": {},
   "outputs": [
    {
     "name": "stdout",
     "output_type": "stream",
     "text": [
      "['Hello,', 'world!']\n"
     ]
    }
   ],
   "source": [
    "a = \"Hello, world!\"\n",
    "print(a.split())  #The split() method returns a list where the text between the specified separator becomes the list items."
   ]
  },
  {
   "cell_type": "markdown",
   "metadata": {},
   "source": [
    "# String Concatenation\n",
    "To concatenate, or combine, two strings you can use the + operator.\n",
    "\n"
   ]
  },
  {
   "cell_type": "code",
   "execution_count": 26,
   "metadata": {},
   "outputs": [
    {
     "name": "stdout",
     "output_type": "stream",
     "text": [
      "Helloworld\n"
     ]
    }
   ],
   "source": [
    "#Merge variable a with variable b into variable c\n",
    "a = 'Hello'\n",
    "b = 'world'\n",
    "c = a + b\n",
    "print(c)"
   ]
  },
  {
   "cell_type": "code",
   "execution_count": 27,
   "metadata": {},
   "outputs": [
    {
     "name": "stdout",
     "output_type": "stream",
     "text": [
      "Hello world\n"
     ]
    }
   ],
   "source": [
    "#add space between them\n",
    "a = 'Hello'\n",
    "b = 'world'\n",
    "print(a +\" \"+b)"
   ]
  },
  {
   "cell_type": "markdown",
   "metadata": {},
   "source": [
    "# String Format\n",
    "As we learned in the Python Variables chapter, we cannot combine strings and numbers like this.\n",
    "\n",
    "The format() method takes the passed arguments, formats them, and places them in the string where the placeholders {} are:"
   ]
  },
  {
   "cell_type": "code",
   "execution_count": 28,
   "metadata": {},
   "outputs": [
    {
     "name": "stdout",
     "output_type": "stream",
     "text": [
      "My name is Vikash Mishra and I am 25\n"
     ]
    }
   ],
   "source": [
    "#Use the format() method to insert numbers into strings:#\n",
    "age = 25\n",
    "x = \"My name is Vikash Mishra and I am {}\"\n",
    "print(x.format(age))"
   ]
  },
  {
   "cell_type": "code",
   "execution_count": 34,
   "metadata": {},
   "outputs": [
    {
     "name": "stdout",
     "output_type": "stream",
     "text": [
      "The mobile phone of 211 that has price of 25500 and quantity is 5\n"
     ]
    }
   ],
   "source": [
    "#The format() method takes unlimited number of arguments, and are placed into the respective placeholders:\n",
    "price = 25500\n",
    "quantity = 5\n",
    "itemNo = 211\n",
    "x = \"The mobile phone of {} that has price of {} and quantity is {}\"\n",
    "print(x.format(itemNo, price, quantity))"
   ]
  },
  {
   "cell_type": "markdown",
   "metadata": {},
   "source": [
    "# Escape Characters\n",
    "To insert characters that are illegal in a string, use an escape character.\n",
    "\n",
    "An escape character is a backslash \\ followed by the character you want to insert."
   ]
  },
  {
   "cell_type": "code",
   "execution_count": 5,
   "metadata": {},
   "outputs": [
    {
     "name": "stdout",
     "output_type": "stream",
     "text": [
      "We are humans \"not aliens\" from earth\n"
     ]
    }
   ],
   "source": [
    "#The escape character allows you to use double quotes when you normally would not be allowed:\n",
    "x = \"We are humans \\\"not aliens\\\" from earth\"\n",
    "print(x)"
   ]
  },
  {
   "cell_type": "code",
   "execution_count": 12,
   "metadata": {},
   "outputs": [
    {
     "name": "stdout",
     "output_type": "stream",
     "text": [
      "It's different\n",
      "Sir\\Ma'am\n",
      "Twinkle Twinkle Little Star, \n",
      "\tHow I wonder What You are\n",
      "Vikash \bMishra, \n",
      "Vikash Mishra\n"
     ]
    }
   ],
   "source": [
    "x = 'It\\'s different' #Single Quote\n",
    "print(x)\n",
    "y = \"Sir\\\\Ma'am\" #Backslash\n",
    "print(y)\n",
    "z = \"Twinkle Twinkle Little Star, \\n\\tHow I wonder What You are\" #NewLine and Tab\n",
    "print(z)\n",
    "a = 'Vikash \\bMishra, \\nVikash Mishra'\n",
    "print(a)"
   ]
  },
  {
   "cell_type": "code",
   "execution_count": 30,
   "metadata": {},
   "outputs": [
    {
     "name": "stdout",
     "output_type": "stream",
     "text": [
      "My name is vikash mishra\n",
      "my name is vikash mishra\n",
      "             My name is Vikash Mishra             \n",
      "0000000000000My name is Vikash Mishra0000000000000\n",
      "3\n",
      "b'My name is Vikash Mishra'\n"
     ]
    }
   ],
   "source": [
    "#Important String Methods\n",
    "x = \"My name is Vikash Mishra\"\n",
    "print(x.capitalize()) #Converts the first character to upper case\n",
    "print(x.casefold())   #Converts string into lower case\n",
    "print(x.center(50)) \n",
    "print(x.center(50,\"0\")) #Returns a centered string\n",
    "print(x.count(\"s\"))     #Count the number specific character in a string\n",
    "print(x.encode())       #Returns an encoded version of the string"
   ]
  },
  {
   "cell_type": "code",
   "execution_count": 32,
   "metadata": {},
   "outputs": [
    {
     "name": "stdout",
     "output_type": "stream",
     "text": [
      "Vikash Mishra\n"
     ]
    }
   ],
   "source": [
    "x = (\"Vikash\", \"Mishra\")\n",
    "y = \" \".join(x)          #\tJoins the elements of an iterable to the end of the string\n",
    "print(y)"
   ]
  },
  {
   "cell_type": "code",
   "execution_count": null,
   "metadata": {},
   "outputs": [],
   "source": []
  }
 ],
 "metadata": {
  "kernelspec": {
   "display_name": "Python 3",
   "language": "python",
   "name": "python3"
  },
  "language_info": {
   "codemirror_mode": {
    "name": "ipython",
    "version": 3
   },
   "file_extension": ".py",
   "mimetype": "text/x-python",
   "name": "python",
   "nbconvert_exporter": "python",
   "pygments_lexer": "ipython3",
   "version": "3.8.5"
  }
 },
 "nbformat": 4,
 "nbformat_minor": 4
}
